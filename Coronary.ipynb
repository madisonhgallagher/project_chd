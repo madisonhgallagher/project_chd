{
  "nbformat": 4,
  "nbformat_minor": 0,
  "metadata": {
    "colab": {
      "provenance": [],
      "include_colab_link": true
    },
    "kernelspec": {
      "name": "python3",
      "display_name": "Python 3"
    },
    "language_info": {
      "name": "python"
    }
  },
  "cells": [
    {
      "cell_type": "markdown",
      "metadata": {
        "id": "view-in-github",
        "colab_type": "text"
      },
      "source": [
        "<a href=\"https://colab.research.google.com/github/madisonhgallagher/project_chd/blob/main/Coronary.ipynb\" target=\"_parent\"><img src=\"https://colab.research.google.com/assets/colab-badge.svg\" alt=\"Open In Colab\"/></a>"
      ]
    },
    {
      "cell_type": "markdown",
      "source": [
        "# Data Wrangling"
      ],
      "metadata": {
        "id": "KFPObaoxYfgC"
      }
    },
    {
      "cell_type": "code",
      "source": [
        "! git clone https://github.com/madisonhgallagher/project_chd.git"
      ],
      "metadata": {
        "id": "KGsFgCaLr-xD"
      },
      "execution_count": null,
      "outputs": []
    },
    {
      "cell_type": "code",
      "execution_count": null,
      "metadata": {
        "id": "pEWMIanxXsFk"
      },
      "outputs": [],
      "source": [
        "import numpy as np\n",
        "import pandas as pd"
      ]
    },
    {
      "cell_type": "code",
      "source": [
        "df = pd.read_csv('fhs_train.csv')"
      ],
      "metadata": {
        "id": "a7oSzg6JYT-t"
      },
      "execution_count": null,
      "outputs": []
    },
    {
      "cell_type": "code",
      "source": [
        "df.head()"
      ],
      "metadata": {
        "colab": {
          "base_uri": "https://localhost:8080/",
          "height": 243
        },
        "id": "cwa3_M_oY0vV",
        "outputId": "ad8ab509-25a3-419a-c5bd-da4b3e751884"
      },
      "execution_count": null,
      "outputs": [
        {
          "output_type": "execute_result",
          "data": {
            "text/plain": [
              "   Unnamed: 0  sex  age  education  currentSmoker  cigsPerDay  BPMeds  \\\n",
              "0        1267    1   58        1.0              0         0.0     0.0   \n",
              "1        1209    0   40        1.0              1        15.0     0.0   \n",
              "2        2050    0   52        1.0              0         0.0     0.0   \n",
              "3        1183    1   38        2.0              1        43.0     0.0   \n",
              "4        3225    0   43        1.0              0         0.0     0.0   \n",
              "\n",
              "   prevalentStroke  prevalentHyp  diabetes  totChol  sysBP  diaBP    BMI  \\\n",
              "0                0             0         0    220.0  143.0  104.0  29.85   \n",
              "1                0             0         0    199.0  122.0   82.0  22.16   \n",
              "2                0             0         0    275.0  112.0   71.0  25.68   \n",
              "3                0             1         0    170.0  130.0   94.0  23.90   \n",
              "4                0             0         0    202.0  124.0   92.0  21.26   \n",
              "\n",
              "   heartRate  glucose  TenYearCHD  \n",
              "0         75     87.0           1  \n",
              "1         85     77.0           0  \n",
              "2         80      NaN           0  \n",
              "3        110     75.0           0  \n",
              "4         75     74.0           0  "
            ],
            "text/html": [
              "\n",
              "  <div id=\"df-bd7d22ec-f49b-4f0b-a3e0-9897cbb10796\" class=\"colab-df-container\">\n",
              "    <div>\n",
              "<style scoped>\n",
              "    .dataframe tbody tr th:only-of-type {\n",
              "        vertical-align: middle;\n",
              "    }\n",
              "\n",
              "    .dataframe tbody tr th {\n",
              "        vertical-align: top;\n",
              "    }\n",
              "\n",
              "    .dataframe thead th {\n",
              "        text-align: right;\n",
              "    }\n",
              "</style>\n",
              "<table border=\"1\" class=\"dataframe\">\n",
              "  <thead>\n",
              "    <tr style=\"text-align: right;\">\n",
              "      <th></th>\n",
              "      <th>Unnamed: 0</th>\n",
              "      <th>sex</th>\n",
              "      <th>age</th>\n",
              "      <th>education</th>\n",
              "      <th>currentSmoker</th>\n",
              "      <th>cigsPerDay</th>\n",
              "      <th>BPMeds</th>\n",
              "      <th>prevalentStroke</th>\n",
              "      <th>prevalentHyp</th>\n",
              "      <th>diabetes</th>\n",
              "      <th>totChol</th>\n",
              "      <th>sysBP</th>\n",
              "      <th>diaBP</th>\n",
              "      <th>BMI</th>\n",
              "      <th>heartRate</th>\n",
              "      <th>glucose</th>\n",
              "      <th>TenYearCHD</th>\n",
              "    </tr>\n",
              "  </thead>\n",
              "  <tbody>\n",
              "    <tr>\n",
              "      <th>0</th>\n",
              "      <td>1267</td>\n",
              "      <td>1</td>\n",
              "      <td>58</td>\n",
              "      <td>1.0</td>\n",
              "      <td>0</td>\n",
              "      <td>0.0</td>\n",
              "      <td>0.0</td>\n",
              "      <td>0</td>\n",
              "      <td>0</td>\n",
              "      <td>0</td>\n",
              "      <td>220.0</td>\n",
              "      <td>143.0</td>\n",
              "      <td>104.0</td>\n",
              "      <td>29.85</td>\n",
              "      <td>75</td>\n",
              "      <td>87.0</td>\n",
              "      <td>1</td>\n",
              "    </tr>\n",
              "    <tr>\n",
              "      <th>1</th>\n",
              "      <td>1209</td>\n",
              "      <td>0</td>\n",
              "      <td>40</td>\n",
              "      <td>1.0</td>\n",
              "      <td>1</td>\n",
              "      <td>15.0</td>\n",
              "      <td>0.0</td>\n",
              "      <td>0</td>\n",
              "      <td>0</td>\n",
              "      <td>0</td>\n",
              "      <td>199.0</td>\n",
              "      <td>122.0</td>\n",
              "      <td>82.0</td>\n",
              "      <td>22.16</td>\n",
              "      <td>85</td>\n",
              "      <td>77.0</td>\n",
              "      <td>0</td>\n",
              "    </tr>\n",
              "    <tr>\n",
              "      <th>2</th>\n",
              "      <td>2050</td>\n",
              "      <td>0</td>\n",
              "      <td>52</td>\n",
              "      <td>1.0</td>\n",
              "      <td>0</td>\n",
              "      <td>0.0</td>\n",
              "      <td>0.0</td>\n",
              "      <td>0</td>\n",
              "      <td>0</td>\n",
              "      <td>0</td>\n",
              "      <td>275.0</td>\n",
              "      <td>112.0</td>\n",
              "      <td>71.0</td>\n",
              "      <td>25.68</td>\n",
              "      <td>80</td>\n",
              "      <td>NaN</td>\n",
              "      <td>0</td>\n",
              "    </tr>\n",
              "    <tr>\n",
              "      <th>3</th>\n",
              "      <td>1183</td>\n",
              "      <td>1</td>\n",
              "      <td>38</td>\n",
              "      <td>2.0</td>\n",
              "      <td>1</td>\n",
              "      <td>43.0</td>\n",
              "      <td>0.0</td>\n",
              "      <td>0</td>\n",
              "      <td>1</td>\n",
              "      <td>0</td>\n",
              "      <td>170.0</td>\n",
              "      <td>130.0</td>\n",
              "      <td>94.0</td>\n",
              "      <td>23.90</td>\n",
              "      <td>110</td>\n",
              "      <td>75.0</td>\n",
              "      <td>0</td>\n",
              "    </tr>\n",
              "    <tr>\n",
              "      <th>4</th>\n",
              "      <td>3225</td>\n",
              "      <td>0</td>\n",
              "      <td>43</td>\n",
              "      <td>1.0</td>\n",
              "      <td>0</td>\n",
              "      <td>0.0</td>\n",
              "      <td>0.0</td>\n",
              "      <td>0</td>\n",
              "      <td>0</td>\n",
              "      <td>0</td>\n",
              "      <td>202.0</td>\n",
              "      <td>124.0</td>\n",
              "      <td>92.0</td>\n",
              "      <td>21.26</td>\n",
              "      <td>75</td>\n",
              "      <td>74.0</td>\n",
              "      <td>0</td>\n",
              "    </tr>\n",
              "  </tbody>\n",
              "</table>\n",
              "</div>\n",
              "    <div class=\"colab-df-buttons\">\n",
              "\n",
              "  <div class=\"colab-df-container\">\n",
              "    <button class=\"colab-df-convert\" onclick=\"convertToInteractive('df-bd7d22ec-f49b-4f0b-a3e0-9897cbb10796')\"\n",
              "            title=\"Convert this dataframe to an interactive table.\"\n",
              "            style=\"display:none;\">\n",
              "\n",
              "  <svg xmlns=\"http://www.w3.org/2000/svg\" height=\"24px\" viewBox=\"0 -960 960 960\">\n",
              "    <path d=\"M120-120v-720h720v720H120Zm60-500h600v-160H180v160Zm220 220h160v-160H400v160Zm0 220h160v-160H400v160ZM180-400h160v-160H180v160Zm440 0h160v-160H620v160ZM180-180h160v-160H180v160Zm440 0h160v-160H620v160Z\"/>\n",
              "  </svg>\n",
              "    </button>\n",
              "\n",
              "  <style>\n",
              "    .colab-df-container {\n",
              "      display:flex;\n",
              "      gap: 12px;\n",
              "    }\n",
              "\n",
              "    .colab-df-convert {\n",
              "      background-color: #E8F0FE;\n",
              "      border: none;\n",
              "      border-radius: 50%;\n",
              "      cursor: pointer;\n",
              "      display: none;\n",
              "      fill: #1967D2;\n",
              "      height: 32px;\n",
              "      padding: 0 0 0 0;\n",
              "      width: 32px;\n",
              "    }\n",
              "\n",
              "    .colab-df-convert:hover {\n",
              "      background-color: #E2EBFA;\n",
              "      box-shadow: 0px 1px 2px rgba(60, 64, 67, 0.3), 0px 1px 3px 1px rgba(60, 64, 67, 0.15);\n",
              "      fill: #174EA6;\n",
              "    }\n",
              "\n",
              "    .colab-df-buttons div {\n",
              "      margin-bottom: 4px;\n",
              "    }\n",
              "\n",
              "    [theme=dark] .colab-df-convert {\n",
              "      background-color: #3B4455;\n",
              "      fill: #D2E3FC;\n",
              "    }\n",
              "\n",
              "    [theme=dark] .colab-df-convert:hover {\n",
              "      background-color: #434B5C;\n",
              "      box-shadow: 0px 1px 3px 1px rgba(0, 0, 0, 0.15);\n",
              "      filter: drop-shadow(0px 1px 2px rgba(0, 0, 0, 0.3));\n",
              "      fill: #FFFFFF;\n",
              "    }\n",
              "  </style>\n",
              "\n",
              "    <script>\n",
              "      const buttonEl =\n",
              "        document.querySelector('#df-bd7d22ec-f49b-4f0b-a3e0-9897cbb10796 button.colab-df-convert');\n",
              "      buttonEl.style.display =\n",
              "        google.colab.kernel.accessAllowed ? 'block' : 'none';\n",
              "\n",
              "      async function convertToInteractive(key) {\n",
              "        const element = document.querySelector('#df-bd7d22ec-f49b-4f0b-a3e0-9897cbb10796');\n",
              "        const dataTable =\n",
              "          await google.colab.kernel.invokeFunction('convertToInteractive',\n",
              "                                                    [key], {});\n",
              "        if (!dataTable) return;\n",
              "\n",
              "        const docLinkHtml = 'Like what you see? Visit the ' +\n",
              "          '<a target=\"_blank\" href=https://colab.research.google.com/notebooks/data_table.ipynb>data table notebook</a>'\n",
              "          + ' to learn more about interactive tables.';\n",
              "        element.innerHTML = '';\n",
              "        dataTable['output_type'] = 'display_data';\n",
              "        await google.colab.output.renderOutput(dataTable, element);\n",
              "        const docLink = document.createElement('div');\n",
              "        docLink.innerHTML = docLinkHtml;\n",
              "        element.appendChild(docLink);\n",
              "      }\n",
              "    </script>\n",
              "  </div>\n",
              "\n",
              "\n",
              "<div id=\"df-5708fdc7-007f-4489-96ea-545bd5fd9623\">\n",
              "  <button class=\"colab-df-quickchart\" onclick=\"quickchart('df-5708fdc7-007f-4489-96ea-545bd5fd9623')\"\n",
              "            title=\"Suggest charts\"\n",
              "            style=\"display:none;\">\n",
              "\n",
              "<svg xmlns=\"http://www.w3.org/2000/svg\" height=\"24px\"viewBox=\"0 0 24 24\"\n",
              "     width=\"24px\">\n",
              "    <g>\n",
              "        <path d=\"M19 3H5c-1.1 0-2 .9-2 2v14c0 1.1.9 2 2 2h14c1.1 0 2-.9 2-2V5c0-1.1-.9-2-2-2zM9 17H7v-7h2v7zm4 0h-2V7h2v10zm4 0h-2v-4h2v4z\"/>\n",
              "    </g>\n",
              "</svg>\n",
              "  </button>\n",
              "\n",
              "<style>\n",
              "  .colab-df-quickchart {\n",
              "      --bg-color: #E8F0FE;\n",
              "      --fill-color: #1967D2;\n",
              "      --hover-bg-color: #E2EBFA;\n",
              "      --hover-fill-color: #174EA6;\n",
              "      --disabled-fill-color: #AAA;\n",
              "      --disabled-bg-color: #DDD;\n",
              "  }\n",
              "\n",
              "  [theme=dark] .colab-df-quickchart {\n",
              "      --bg-color: #3B4455;\n",
              "      --fill-color: #D2E3FC;\n",
              "      --hover-bg-color: #434B5C;\n",
              "      --hover-fill-color: #FFFFFF;\n",
              "      --disabled-bg-color: #3B4455;\n",
              "      --disabled-fill-color: #666;\n",
              "  }\n",
              "\n",
              "  .colab-df-quickchart {\n",
              "    background-color: var(--bg-color);\n",
              "    border: none;\n",
              "    border-radius: 50%;\n",
              "    cursor: pointer;\n",
              "    display: none;\n",
              "    fill: var(--fill-color);\n",
              "    height: 32px;\n",
              "    padding: 0;\n",
              "    width: 32px;\n",
              "  }\n",
              "\n",
              "  .colab-df-quickchart:hover {\n",
              "    background-color: var(--hover-bg-color);\n",
              "    box-shadow: 0 1px 2px rgba(60, 64, 67, 0.3), 0 1px 3px 1px rgba(60, 64, 67, 0.15);\n",
              "    fill: var(--button-hover-fill-color);\n",
              "  }\n",
              "\n",
              "  .colab-df-quickchart-complete:disabled,\n",
              "  .colab-df-quickchart-complete:disabled:hover {\n",
              "    background-color: var(--disabled-bg-color);\n",
              "    fill: var(--disabled-fill-color);\n",
              "    box-shadow: none;\n",
              "  }\n",
              "\n",
              "  .colab-df-spinner {\n",
              "    border: 2px solid var(--fill-color);\n",
              "    border-color: transparent;\n",
              "    border-bottom-color: var(--fill-color);\n",
              "    animation:\n",
              "      spin 1s steps(1) infinite;\n",
              "  }\n",
              "\n",
              "  @keyframes spin {\n",
              "    0% {\n",
              "      border-color: transparent;\n",
              "      border-bottom-color: var(--fill-color);\n",
              "      border-left-color: var(--fill-color);\n",
              "    }\n",
              "    20% {\n",
              "      border-color: transparent;\n",
              "      border-left-color: var(--fill-color);\n",
              "      border-top-color: var(--fill-color);\n",
              "    }\n",
              "    30% {\n",
              "      border-color: transparent;\n",
              "      border-left-color: var(--fill-color);\n",
              "      border-top-color: var(--fill-color);\n",
              "      border-right-color: var(--fill-color);\n",
              "    }\n",
              "    40% {\n",
              "      border-color: transparent;\n",
              "      border-right-color: var(--fill-color);\n",
              "      border-top-color: var(--fill-color);\n",
              "    }\n",
              "    60% {\n",
              "      border-color: transparent;\n",
              "      border-right-color: var(--fill-color);\n",
              "    }\n",
              "    80% {\n",
              "      border-color: transparent;\n",
              "      border-right-color: var(--fill-color);\n",
              "      border-bottom-color: var(--fill-color);\n",
              "    }\n",
              "    90% {\n",
              "      border-color: transparent;\n",
              "      border-bottom-color: var(--fill-color);\n",
              "    }\n",
              "  }\n",
              "</style>\n",
              "\n",
              "  <script>\n",
              "    async function quickchart(key) {\n",
              "      const quickchartButtonEl =\n",
              "        document.querySelector('#' + key + ' button');\n",
              "      quickchartButtonEl.disabled = true;  // To prevent multiple clicks.\n",
              "      quickchartButtonEl.classList.add('colab-df-spinner');\n",
              "      try {\n",
              "        const charts = await google.colab.kernel.invokeFunction(\n",
              "            'suggestCharts', [key], {});\n",
              "      } catch (error) {\n",
              "        console.error('Error during call to suggestCharts:', error);\n",
              "      }\n",
              "      quickchartButtonEl.classList.remove('colab-df-spinner');\n",
              "      quickchartButtonEl.classList.add('colab-df-quickchart-complete');\n",
              "    }\n",
              "    (() => {\n",
              "      let quickchartButtonEl =\n",
              "        document.querySelector('#df-5708fdc7-007f-4489-96ea-545bd5fd9623 button');\n",
              "      quickchartButtonEl.style.display =\n",
              "        google.colab.kernel.accessAllowed ? 'block' : 'none';\n",
              "    })();\n",
              "  </script>\n",
              "</div>\n",
              "    </div>\n",
              "  </div>\n"
            ],
            "application/vnd.google.colaboratory.intrinsic+json": {
              "type": "dataframe",
              "variable_name": "df",
              "summary": "{\n  \"name\": \"df\",\n  \"rows\": 3180,\n  \"fields\": [\n    {\n      \"column\": \"Unnamed: 0\",\n      \"properties\": {\n        \"dtype\": \"number\",\n        \"std\": 1231,\n        \"min\": 1,\n        \"max\": 4240,\n        \"num_unique_values\": 3180,\n        \"samples\": [\n          3896,\n          2879,\n          3270\n        ],\n        \"semantic_type\": \"\",\n        \"description\": \"\"\n      }\n    },\n    {\n      \"column\": \"sex\",\n      \"properties\": {\n        \"dtype\": \"number\",\n        \"std\": 0,\n        \"min\": 0,\n        \"max\": 1,\n        \"num_unique_values\": 2,\n        \"samples\": [\n          0,\n          1\n        ],\n        \"semantic_type\": \"\",\n        \"description\": \"\"\n      }\n    },\n    {\n      \"column\": \"age\",\n      \"properties\": {\n        \"dtype\": \"number\",\n        \"std\": 8,\n        \"min\": 32,\n        \"max\": 70,\n        \"num_unique_values\": 39,\n        \"samples\": [\n          67,\n          32\n        ],\n        \"semantic_type\": \"\",\n        \"description\": \"\"\n      }\n    },\n    {\n      \"column\": \"education\",\n      \"properties\": {\n        \"dtype\": \"number\",\n        \"std\": 1.011134624909823,\n        \"min\": 1.0,\n        \"max\": 4.0,\n        \"num_unique_values\": 4,\n        \"samples\": [\n          2.0,\n          3.0\n        ],\n        \"semantic_type\": \"\",\n        \"description\": \"\"\n      }\n    },\n    {\n      \"column\": \"currentSmoker\",\n      \"properties\": {\n        \"dtype\": \"number\",\n        \"std\": 0,\n        \"min\": 0,\n        \"max\": 1,\n        \"num_unique_values\": 2,\n        \"samples\": [\n          1,\n          0\n        ],\n        \"semantic_type\": \"\",\n        \"description\": \"\"\n      }\n    },\n    {\n      \"column\": \"cigsPerDay\",\n      \"properties\": {\n        \"dtype\": \"number\",\n        \"std\": 12.013704001555473,\n        \"min\": 0.0,\n        \"max\": 70.0,\n        \"num_unique_values\": 33,\n        \"samples\": [\n          38.0,\n          8.0\n        ],\n        \"semantic_type\": \"\",\n        \"description\": \"\"\n      }\n    },\n    {\n      \"column\": \"BPMeds\",\n      \"properties\": {\n        \"dtype\": \"number\",\n        \"std\": 0.16947908596200822,\n        \"min\": 0.0,\n        \"max\": 1.0,\n        \"num_unique_values\": 2,\n        \"samples\": [\n          1.0,\n          0.0\n        ],\n        \"semantic_type\": \"\",\n        \"description\": \"\"\n      }\n    },\n    {\n      \"column\": \"prevalentStroke\",\n      \"properties\": {\n        \"dtype\": \"number\",\n        \"std\": 0,\n        \"min\": 0,\n        \"max\": 1,\n        \"num_unique_values\": 2,\n        \"samples\": [\n          1,\n          0\n        ],\n        \"semantic_type\": \"\",\n        \"description\": \"\"\n      }\n    },\n    {\n      \"column\": \"prevalentHyp\",\n      \"properties\": {\n        \"dtype\": \"number\",\n        \"std\": 0,\n        \"min\": 0,\n        \"max\": 1,\n        \"num_unique_values\": 2,\n        \"samples\": [\n          1,\n          0\n        ],\n        \"semantic_type\": \"\",\n        \"description\": \"\"\n      }\n    },\n    {\n      \"column\": \"diabetes\",\n      \"properties\": {\n        \"dtype\": \"number\",\n        \"std\": 0,\n        \"min\": 0,\n        \"max\": 1,\n        \"num_unique_values\": 2,\n        \"samples\": [\n          1,\n          0\n        ],\n        \"semantic_type\": \"\",\n        \"description\": \"\"\n      }\n    },\n    {\n      \"column\": \"totChol\",\n      \"properties\": {\n        \"dtype\": \"number\",\n        \"std\": 44.847410643806406,\n        \"min\": 107.0,\n        \"max\": 696.0,\n        \"num_unique_values\": 243,\n        \"samples\": [\n          180.0,\n          237.0\n        ],\n        \"semantic_type\": \"\",\n        \"description\": \"\"\n      }\n    },\n    {\n      \"column\": \"sysBP\",\n      \"properties\": {\n        \"dtype\": \"number\",\n        \"std\": 22.433266948078337,\n        \"min\": 83.5,\n        \"max\": 295.0,\n        \"num_unique_values\": 229,\n        \"samples\": [\n          181.5,\n          174.0\n        ],\n        \"semantic_type\": \"\",\n        \"description\": \"\"\n      }\n    },\n    {\n      \"column\": \"diaBP\",\n      \"properties\": {\n        \"dtype\": \"number\",\n        \"std\": 12.009212492738772,\n        \"min\": 50.0,\n        \"max\": 142.5,\n        \"num_unique_values\": 139,\n        \"samples\": [\n          142.5,\n          70.5\n        ],\n        \"semantic_type\": \"\",\n        \"description\": \"\"\n      }\n    },\n    {\n      \"column\": \"BMI\",\n      \"properties\": {\n        \"dtype\": \"number\",\n        \"std\": 4.130474751655827,\n        \"min\": 15.54,\n        \"max\": 56.8,\n        \"num_unique_values\": 1234,\n        \"samples\": [\n          26.87,\n          29.18\n        ],\n        \"semantic_type\": \"\",\n        \"description\": \"\"\n      }\n    },\n    {\n      \"column\": \"heartRate\",\n      \"properties\": {\n        \"dtype\": \"number\",\n        \"std\": 12,\n        \"min\": 44,\n        \"max\": 140,\n        \"num_unique_values\": 70,\n        \"samples\": [\n          69,\n          75\n        ],\n        \"semantic_type\": \"\",\n        \"description\": \"\"\n      }\n    },\n    {\n      \"column\": \"glucose\",\n      \"properties\": {\n        \"dtype\": \"number\",\n        \"std\": 23.625356737313467,\n        \"min\": 40.0,\n        \"max\": 394.0,\n        \"num_unique_values\": 130,\n        \"samples\": [\n          118.0,\n          88.0\n        ],\n        \"semantic_type\": \"\",\n        \"description\": \"\"\n      }\n    },\n    {\n      \"column\": \"TenYearCHD\",\n      \"properties\": {\n        \"dtype\": \"number\",\n        \"std\": 0,\n        \"min\": 0,\n        \"max\": 1,\n        \"num_unique_values\": 2,\n        \"samples\": [\n          0,\n          1\n        ],\n        \"semantic_type\": \"\",\n        \"description\": \"\"\n      }\n    }\n  ]\n}"
            }
          },
          "metadata": {},
          "execution_count": 7
        }
      ]
    },
    {
      "cell_type": "code",
      "source": [
        "print(df.shape, '\\n') # List the dimensions of df\n",
        "print(df.dtypes, '\\n') # The types of the variables; `object` is a bad sign\n",
        "print(df.columns[1:5], '\\n') # First five column names"
      ],
      "metadata": {
        "colab": {
          "base_uri": "https://localhost:8080/"
        },
        "id": "N0PVTwxIYcYm",
        "outputId": "a4d0b594-d199-4c1e-adca-f6924e4b28e4"
      },
      "execution_count": null,
      "outputs": [
        {
          "output_type": "stream",
          "name": "stdout",
          "text": [
            "(3180, 17) \n",
            "\n",
            "Unnamed: 0           int64\n",
            "sex                  int64\n",
            "age                  int64\n",
            "education          float64\n",
            "currentSmoker        int64\n",
            "cigsPerDay         float64\n",
            "BPMeds             float64\n",
            "prevalentStroke      int64\n",
            "prevalentHyp         int64\n",
            "diabetes             int64\n",
            "totChol            float64\n",
            "sysBP              float64\n",
            "diaBP              float64\n",
            "BMI                float64\n",
            "heartRate            int64\n",
            "glucose            float64\n",
            "TenYearCHD           int64\n",
            "dtype: object \n",
            "\n",
            "Index(['sex', 'age', 'education', 'currentSmoker'], dtype='object') \n",
            "\n"
          ]
        }
      ]
    },
    {
      "cell_type": "markdown",
      "source": [
        "It looks like all of our data is already either a float or an integer, which is helpful for analysis."
      ],
      "metadata": {
        "id": "5OMZhvdiay4L"
      }
    },
    {
      "cell_type": "code",
      "source": [
        "print(df.iloc[0:5,1:17],'\\n') # Show the zero to fourth rows/first to seventeenth columns"
      ],
      "metadata": {
        "colab": {
          "base_uri": "https://localhost:8080/"
        },
        "id": "4mKxA9YRYqYF",
        "outputId": "7c5fbb5d-6726-477e-cebb-c520fea59144"
      },
      "execution_count": null,
      "outputs": [
        {
          "output_type": "stream",
          "name": "stdout",
          "text": [
            "   sex  age  education  currentSmoker  cigsPerDay  BPMeds  prevalentStroke  \\\n",
            "0    1   58        1.0              0         0.0     0.0                0   \n",
            "1    0   40        1.0              1        15.0     0.0                0   \n",
            "2    0   52        1.0              0         0.0     0.0                0   \n",
            "3    1   38        2.0              1        43.0     0.0                0   \n",
            "4    0   43        1.0              0         0.0     0.0                0   \n",
            "\n",
            "   prevalentHyp  diabetes  totChol  sysBP  diaBP    BMI  heartRate  glucose  \\\n",
            "0             0         0    220.0  143.0  104.0  29.85         75     87.0   \n",
            "1             0         0    199.0  122.0   82.0  22.16         85     77.0   \n",
            "2             0         0    275.0  112.0   71.0  25.68         80      NaN   \n",
            "3             1         0    170.0  130.0   94.0  23.90        110     75.0   \n",
            "4             0         0    202.0  124.0   92.0  21.26         75     74.0   \n",
            "\n",
            "   TenYearCHD  \n",
            "0           1  \n",
            "1           0  \n",
            "2           0  \n",
            "3           0  \n",
            "4           0   \n",
            "\n"
          ]
        }
      ]
    },
    {
      "cell_type": "markdown",
      "source": [
        "#Observing the distribution of different variables"
      ],
      "metadata": {
        "id": "tQH5w7dGZyML"
      }
    },
    {
      "cell_type": "code",
      "source": [
        "df['sex']\n",
        "var = 'sex'\n",
        "print(df[var].unique(),'\\n') # 'n' is not listed in the codebook\n",
        "print(df[var].value_counts(), '\\n') #\n",
        "print(df[var].hist(), '\\n') # About 72% of observations are male"
      ],
      "metadata": {
        "id": "BwGqRueDZWM1"
      },
      "execution_count": null,
      "outputs": []
    },
    {
      "cell_type": "code",
      "source": [
        "df['age']\n",
        "var = 'age'\n",
        "print(df[var].unique(),'\\n') # 'n' is not listed in the codebook\n",
        "print(df[var].value_counts(), '\\n') #\n",
        "print(df[var].hist(), '\\n') # About 72% of observations are male"
      ],
      "metadata": {
        "id": "fAEzyowkZikm"
      },
      "execution_count": null,
      "outputs": []
    },
    {
      "cell_type": "code",
      "source": [
        "var = 'education'\n",
        "print(df[var].unique(),'\\n') # 'n' is not listed in the codebook\n",
        "print(df[var].value_counts(), '\\n') #\n",
        "print(df[var].hist(), '\\n') # About 72% of observations are male"
      ],
      "metadata": {
        "id": "evaIfKsGZ3ef"
      },
      "execution_count": null,
      "outputs": []
    },
    {
      "cell_type": "code",
      "source": [
        "var = 'currentSmoker'\n",
        "print(df[var].unique(),'\\n') # 'n' is not listed in the codebook\n",
        "print(df[var].value_counts(), '\\n') #\n",
        "print(df[var].hist(), '\\n') # About 72% of observations are male"
      ],
      "metadata": {
        "id": "UzlnWdf3aIpK"
      },
      "execution_count": null,
      "outputs": []
    },
    {
      "cell_type": "code",
      "source": [
        "var = 'cigsPerDay'\n",
        "print(df[var].unique(),'\\n') # 'n' is not listed in the codebook\n",
        "print(df[var].value_counts(), '\\n') #\n",
        "print(df[var].hist(), '\\n') # About 72% of observations are male"
      ],
      "metadata": {
        "id": "EDh-EqWUaKh7"
      },
      "execution_count": null,
      "outputs": []
    },
    {
      "cell_type": "code",
      "source": [
        "var = 'BPMeds'\n",
        "print(df[var].unique(),'\\n') # 'n' is not listed in the codebook\n",
        "print(df[var].value_counts(), '\\n') #\n",
        "print(df[var].hist(), '\\n') # About 72% of observations are male"
      ],
      "metadata": {
        "id": "RRjFt_T6aKo6"
      },
      "execution_count": null,
      "outputs": []
    },
    {
      "cell_type": "markdown",
      "source": [
        "## Dealing with missing data"
      ],
      "metadata": {
        "id": "kswrNHH0aihJ"
      }
    },
    {
      "cell_type": "markdown",
      "source": [
        "**Variable 1: Sex**"
      ],
      "metadata": {
        "id": "q3f-AtSkbtzt"
      }
    },
    {
      "cell_type": "code",
      "source": [
        "var = 'sex'\n",
        "\n",
        "print(df[var].describe(),'\\n') # Describe the numeric variable\n",
        "df[var].hist(bins = 50) # Histogram of the variable values\n",
        "\n",
        "df['sex_NA'] = df[var].isnull() # Create a bond missing dummy; long tail\n",
        "\n",
        "print(sum(df['sex_NA']),'\\n') # How many missing values are there?"
      ],
      "metadata": {
        "id": "tLa3trQee32J"
      },
      "execution_count": null,
      "outputs": []
    },
    {
      "cell_type": "markdown",
      "source": [
        "There are no missing values for sex."
      ],
      "metadata": {
        "id": "BibgU8YXe7og"
      }
    },
    {
      "cell_type": "markdown",
      "source": [
        "**Variable 2: Age**"
      ],
      "metadata": {
        "id": "I1lE5LDqbjc6"
      }
    },
    {
      "cell_type": "code",
      "source": [
        "var = 'age'\n",
        "print('Before coercion: \\n', df[var].describe(),'\\n') # The age variable is not read by Pandas as a number\n",
        "df[var].hist(bins=50) # Initial histogram; check out the x axis"
      ],
      "metadata": {
        "id": "DTrFyqEJalF5"
      },
      "execution_count": null,
      "outputs": []
    },
    {
      "cell_type": "code",
      "source": [
        "var = 'age'\n",
        "\n",
        "print(df[var].describe(),'\\n') # Describe the numeric variable\n",
        "df[var].hist(bins = 50) # Histogram of the variable values\n",
        "\n",
        "df['age_NA'] = df[var].isnull() # Create a bond missing dummy; long tail\n",
        "\n",
        "print(sum(df['age_NA']),'\\n') # How many missing values are there?"
      ],
      "metadata": {
        "id": "ltFjQWH0bQHQ"
      },
      "execution_count": null,
      "outputs": []
    },
    {
      "cell_type": "markdown",
      "source": [
        "There are no missing age variables."
      ],
      "metadata": {
        "id": "xwZPCSu3bWvP"
      }
    },
    {
      "cell_type": "markdown",
      "source": [
        "**Variable 3: Education**"
      ],
      "metadata": {
        "id": "EjqHBntGby2X"
      }
    },
    {
      "cell_type": "code",
      "source": [
        "var = 'education'\n",
        "\n",
        "print(df[var].describe(),'\\n') # Describe the numeric variable\n",
        "df[var].hist(bins = 50) # Histogram of the variable values\n",
        "\n",
        "df['education_NA'] = df[var].isnull() # Create a bond missing dummy; long tail\n",
        "\n",
        "print(sum(df['education_NA']),'\\n') # How many missing values are there?"
      ],
      "metadata": {
        "id": "4OcxsHFOcsMf"
      },
      "execution_count": null,
      "outputs": []
    },
    {
      "cell_type": "markdown",
      "source": [
        "There are 85 missing education variables. 85/3180 is ~2.6% of our total data so it is still a relatively small number of missing values.The mean is 1.9. Since the integers represent categories of efucation that means that average amount of education someone has is some highschool (2). We will impute 2 for the missing values because there are few neough points to not skew the data, but enough that we do not want to drop all of those values."
      ],
      "metadata": {
        "id": "MgYw6Xc-cw-_"
      }
    },
    {
      "cell_type": "code",
      "source": [
        "var = 'education'\n",
        "# Compute the value to impute:\n",
        "impute_value = 2\n",
        "\n",
        "# Impute the median of the non-missing data:\n",
        "df[var] = df[var].fillna(impute_value)"
      ],
      "metadata": {
        "id": "bwUtn7M8eX3w"
      },
      "execution_count": null,
      "outputs": []
    },
    {
      "cell_type": "code",
      "source": [
        "var = 'education'\n",
        "\n",
        "print(df[var].describe(),'\\n') # Describe the numeric variable\n",
        "df[var].hist(bins = 50) # Histogram of the variable values\n",
        "\n",
        "df['education_NA'] = df[var].isnull() # Create a bond missing dummy; long tail\n",
        "\n",
        "print(sum(df['education_NA']),'\\n') # How many missing values are there?"
      ],
      "metadata": {
        "id": "u11n3JpceiLh"
      },
      "execution_count": null,
      "outputs": []
    },
    {
      "cell_type": "markdown",
      "source": [
        "Now we have zero mising education values."
      ],
      "metadata": {
        "id": "rhpfsxzresLT"
      }
    },
    {
      "cell_type": "markdown",
      "source": [
        "**Variable 4: Current Smoker**"
      ],
      "metadata": {
        "id": "czGlgS7Hb1lX"
      }
    },
    {
      "cell_type": "code",
      "source": [
        "var = 'currentSmoker'\n",
        "\n",
        "print(df[var].describe(),'\\n') # Describe the numeric variable\n",
        "df[var].hist(bins = 50) # Histogram of the variable values\n",
        "\n",
        "df['currentSmoker_NA'] = df[var].isnull() # Create a bond missing dummy; long tail\n",
        "\n",
        "print(sum(df['currentSmoker_NA']),'\\n') # How many missing values are there?"
      ],
      "metadata": {
        "colab": {
          "base_uri": "https://localhost:8080/",
          "height": 638
        },
        "id": "BnPk-68IfaaH",
        "outputId": "2087785c-1401-4b06-e179-20f5b99daebe"
      },
      "execution_count": null,
      "outputs": [
        {
          "output_type": "stream",
          "name": "stdout",
          "text": [
            "count    3180.000000\n",
            "mean        0.490881\n",
            "std         0.499995\n",
            "min         0.000000\n",
            "25%         0.000000\n",
            "50%         0.000000\n",
            "75%         1.000000\n",
            "max         1.000000\n",
            "Name: currentSmoker, dtype: float64 \n",
            "\n",
            "0 \n",
            "\n"
          ]
        },
        {
          "output_type": "display_data",
          "data": {
            "text/plain": [
              "<Figure size 640x480 with 1 Axes>"
            ],
            "image/png": "[encoded data removed]"
          },
          "metadata": {}
        }
      ]
    },
    {
      "cell_type": "markdown",
      "source": [
        "No missing values in current smoker."
      ],
      "metadata": {
        "id": "r-E9dgOefjY8"
      }
    },
    {
      "cell_type": "markdown",
      "source": [
        "**Variable 5: cigsPerDay**"
      ],
      "metadata": {
        "id": "1YixmqeWb5fX"
      }
    },
    {
      "cell_type": "code",
      "source": [
        "var = 'cigsPerDay'\n",
        "\n",
        "print(df[var].describe(),'\\n') # Describe the numeric variable\n",
        "df[var].hist(bins = 50) # Histogram of the variable values\n",
        "\n",
        "df['cigsPerDay_NA'] = df[var].isnull() # Create a bond missing dummy; long tail\n",
        "\n",
        "print(sum(df['cigsPerDay_NA']),'\\n') # How many missing values are there?"
      ],
      "metadata": {
        "colab": {
          "base_uri": "https://localhost:8080/",
          "height": 638
        },
        "id": "bWQz1m5lfnnn",
        "outputId": "0eea5398-c887-45de-b4de-012a049bbcef"
      },
      "execution_count": null,
      "outputs": [
        {
          "output_type": "stream",
          "name": "stdout",
          "text": [
            "count    3156.000000\n",
            "mean        8.970532\n",
            "std        12.013704\n",
            "min         0.000000\n",
            "25%         0.000000\n",
            "50%         0.000000\n",
            "75%        20.000000\n",
            "max        70.000000\n",
            "Name: cigsPerDay, dtype: float64 \n",
            "\n",
            "24 \n",
            "\n"
          ]
        },
        {
          "output_type": "display_data",
          "data": {
            "text/plain": [
              "<Figure size 640x480 with 1 Axes>"
            ],
            "image/png": "[encoded data removed]"
          },
          "metadata": {}
        }
      ]
    },
    {
      "cell_type": "markdown",
      "source": [
        "There are 24 missing values in the Cigarettes per day variables. This is a tough one because the mean is ~9 cigarettes per day but the 50th percentile of all values is 0 per day. So alot of people don't smoke at all, but if you do the average cigs per day increases quite a bit.\n",
        "Because there are only 24 values missing which is 0.75% of the total responses we will drop these 24 points as imputing the data could lead to imputing values that are far from the truth."
      ],
      "metadata": {
        "id": "OUX8g5T_fw9F"
      }
    },
    {
      "cell_type": "code",
      "source": [
        "df = df[df['cigsPerDay'].notna()]"
      ],
      "metadata": {
        "id": "W0rapBoUg0P_"
      },
      "execution_count": null,
      "outputs": []
    },
    {
      "cell_type": "code",
      "source": [
        "var = 'cigsPerDay'\n",
        "\n",
        "print(df[var].describe(),'\\n') # Describe the numeric variable\n",
        "df[var].hist(bins = 50) # Histogram of the variable values\n",
        "\n",
        "df['cigsPerDay_NA'] = df[var].isnull() # Create a bond missing dummy; long tail\n",
        "\n",
        "print(sum(df['cigsPerDay_NA']),'\\n') # How many missing values are there?"
      ],
      "metadata": {
        "colab": {
          "base_uri": "https://localhost:8080/",
          "height": 742
        },
        "id": "gX2cf1CDg66B",
        "outputId": "905c6684-33fb-47d2-d15c-72cc14be25c1"
      },
      "execution_count": null,
      "outputs": [
        {
          "output_type": "stream",
          "name": "stdout",
          "text": [
            "count    3156.000000\n",
            "mean        8.970532\n",
            "std        12.013704\n",
            "min         0.000000\n",
            "25%         0.000000\n",
            "50%         0.000000\n",
            "75%        20.000000\n",
            "max        70.000000\n",
            "Name: cigsPerDay, dtype: float64 \n",
            "\n",
            "0 \n",
            "\n"
          ]
        },
        {
          "output_type": "stream",
          "name": "stderr",
          "text": [
            "<ipython-input-40-a3fdd951e4a1>:6: SettingWithCopyWarning: \n",
            "A value is trying to be set on a copy of a slice from a DataFrame.\n",
            "Try using .loc[row_indexer,col_indexer] = value instead\n",
            "\n",
            "See the caveats in the documentation: https://pandas.pydata.org/pandas-docs/stable/user_guide/indexing.html#returning-a-view-versus-a-copy\n",
            "  df['cigsPerDay_NA'] = df[var].isnull() # Create a bond missing dummy; long tail\n"
          ]
        },
        {
          "output_type": "display_data",
          "data": {
            "text/plain": [
              "<Figure size 640x480 with 1 Axes>"
            ],
            "image/png": "[encoded data removed]"
          },
          "metadata": {}
        }
      ]
    },
    {
      "cell_type": "markdown",
      "source": [
        "Now we have no NAs in cigsPerDay."
      ],
      "metadata": {
        "id": "68buH6iyhRui"
      }
    },
    {
      "cell_type": "markdown",
      "source": [
        "**Variable 6: BPMeds**"
      ],
      "metadata": {
        "id": "auquaMDYb-J8"
      }
    },
    {
      "cell_type": "code",
      "source": [
        "var = 'BPMeds'\n",
        "\n",
        "print(df[var].describe(),'\\n') # Describe the numeric variable\n",
        "df[var].hist(bins = 50) # Histogram of the variable values\n",
        "\n",
        "df['BPMeds_NA'] = df[var].isnull() # Create a bond missing dummy; long tail\n",
        "\n",
        "print(sum(df['BPMeds_NA']),'\\n') # How many missing values are there?"
      ],
      "metadata": {
        "colab": {
          "base_uri": "https://localhost:8080/",
          "height": 742
        },
        "id": "pOLk3PbohXJy",
        "outputId": "cd78db1d-0a36-4814-91ff-77d3b01dddf7"
      },
      "execution_count": null,
      "outputs": [
        {
          "output_type": "stream",
          "name": "stdout",
          "text": [
            "count    3119.000000\n",
            "mean        0.029817\n",
            "std         0.170110\n",
            "min         0.000000\n",
            "25%         0.000000\n",
            "50%         0.000000\n",
            "75%         0.000000\n",
            "max         1.000000\n",
            "Name: BPMeds, dtype: float64 \n",
            "\n",
            "37 \n",
            "\n"
          ]
        },
        {
          "output_type": "stream",
          "name": "stderr",
          "text": [
            "<ipython-input-41-b5fdcd16bb86>:6: SettingWithCopyWarning: \n",
            "A value is trying to be set on a copy of a slice from a DataFrame.\n",
            "Try using .loc[row_indexer,col_indexer] = value instead\n",
            "\n",
            "See the caveats in the documentation: https://pandas.pydata.org/pandas-docs/stable/user_guide/indexing.html#returning-a-view-versus-a-copy\n",
            "  df['BPMeds_NA'] = df[var].isnull() # Create a bond missing dummy; long tail\n"
          ]
        },
        {
          "output_type": "display_data",
          "data": {
            "text/plain": [
              "<Figure size 640x480 with 1 Axes>"
            ],
            "image/png": "[encoded data removed]"
          },
          "metadata": {}
        }
      ]
    },
    {
      "cell_type": "markdown",
      "source": [
        "For these 37 missing values we will impute 0 because a great majority of people fall into the zero category."
      ],
      "metadata": {
        "id": "DvNf75RYhg_x"
      }
    },
    {
      "cell_type": "code",
      "source": [
        "var = 'BPMeds'\n",
        "# Compute the value to impute:\n",
        "impute_value = 0\n",
        "\n",
        "# Impute the median of the non-missing data:\n",
        "df[var] = df[var].fillna(impute_value)"
      ],
      "metadata": {
        "colab": {
          "base_uri": "https://localhost:8080/"
        },
        "id": "p_d2xirFhvWF",
        "outputId": "d3a8d8ec-428b-4bab-ab0d-4289aeb179e7"
      },
      "execution_count": null,
      "outputs": [
        {
          "output_type": "stream",
          "name": "stderr",
          "text": [
            "<ipython-input-42-595c317bfb5e>:6: SettingWithCopyWarning: \n",
            "A value is trying to be set on a copy of a slice from a DataFrame.\n",
            "Try using .loc[row_indexer,col_indexer] = value instead\n",
            "\n",
            "See the caveats in the documentation: https://pandas.pydata.org/pandas-docs/stable/user_guide/indexing.html#returning-a-view-versus-a-copy\n",
            "  df[var] = df[var].fillna(impute_value)\n"
          ]
        }
      ]
    },
    {
      "cell_type": "code",
      "source": [
        "var = 'BPMeds'\n",
        "\n",
        "print(df[var].describe(),'\\n') # Describe the numeric variable\n",
        "df[var].hist(bins = 50) # Histogram of the variable values\n",
        "\n",
        "df['BPMeds_NA'] = df[var].isnull() # Create a bond missing dummy; long tail\n",
        "\n",
        "print(sum(df['BPMeds_NA']),'\\n') # How many missing values are there?"
      ],
      "metadata": {
        "colab": {
          "base_uri": "https://localhost:8080/",
          "height": 742
        },
        "id": "cSWuhU8kh4oB",
        "outputId": "cab288f0-0979-471a-e5e8-564c50e77f69"
      },
      "execution_count": null,
      "outputs": [
        {
          "output_type": "stream",
          "name": "stdout",
          "text": [
            "count    3156.000000\n",
            "mean        0.029468\n",
            "std         0.169140\n",
            "min         0.000000\n",
            "25%         0.000000\n",
            "50%         0.000000\n",
            "75%         0.000000\n",
            "max         1.000000\n",
            "Name: BPMeds, dtype: float64 \n",
            "\n"
          ]
        },
        {
          "output_type": "stream",
          "name": "stderr",
          "text": [
            "<ipython-input-43-b5fdcd16bb86>:6: SettingWithCopyWarning: \n",
            "A value is trying to be set on a copy of a slice from a DataFrame.\n",
            "Try using .loc[row_indexer,col_indexer] = value instead\n",
            "\n",
            "See the caveats in the documentation: https://pandas.pydata.org/pandas-docs/stable/user_guide/indexing.html#returning-a-view-versus-a-copy\n",
            "  df['BPMeds_NA'] = df[var].isnull() # Create a bond missing dummy; long tail\n"
          ]
        },
        {
          "output_type": "stream",
          "name": "stdout",
          "text": [
            "0 \n",
            "\n"
          ]
        },
        {
          "output_type": "display_data",
          "data": {
            "text/plain": [
              "<Figure size 640x480 with 1 Axes>"
            ],
            "image/png": "[encoded data removed]"
          },
          "metadata": {}
        }
      ]
    },
    {
      "cell_type": "markdown",
      "source": [
        "Now there are zero missing BPMeds values."
      ],
      "metadata": {
        "id": "VNnw5HyYh6ro"
      }
    },
    {
      "cell_type": "markdown",
      "source": [
        "**Variable 7: prevalent stroke**"
      ],
      "metadata": {
        "id": "sdd-wmsacCov"
      }
    },
    {
      "cell_type": "code",
      "source": [
        "var = 'prevalentStroke'\n",
        "\n",
        "print(df[var].describe(),'\\n') # Describe the numeric variable\n",
        "df[var].hist(bins = 50) # Histogram of the variable values\n",
        "\n",
        "df['prevalentStroke_NA'] = df[var].isnull() # Create a bond missing dummy; long tail\n",
        "\n",
        "print(sum(df['prevalentStroke_NA']),'\\n') # How many missing values are there?"
      ],
      "metadata": {
        "colab": {
          "base_uri": "https://localhost:8080/",
          "height": 742
        },
        "id": "p7qg0jcRid82",
        "outputId": "b473fe99-ab72-489a-b0f2-350a3c7973cc"
      },
      "execution_count": null,
      "outputs": [
        {
          "output_type": "stream",
          "name": "stdout",
          "text": [
            "count    3156.000000\n",
            "mean        0.006654\n",
            "std         0.081313\n",
            "min         0.000000\n",
            "25%         0.000000\n",
            "50%         0.000000\n",
            "75%         0.000000\n",
            "max         1.000000\n",
            "Name: prevalentStroke, dtype: float64 \n",
            "\n",
            "0 \n",
            "\n"
          ]
        },
        {
          "output_type": "stream",
          "name": "stderr",
          "text": [
            "<ipython-input-44-31f40e138688>:6: SettingWithCopyWarning: \n",
            "A value is trying to be set on a copy of a slice from a DataFrame.\n",
            "Try using .loc[row_indexer,col_indexer] = value instead\n",
            "\n",
            "See the caveats in the documentation: https://pandas.pydata.org/pandas-docs/stable/user_guide/indexing.html#returning-a-view-versus-a-copy\n",
            "  df['prevalentStroke_NA'] = df[var].isnull() # Create a bond missing dummy; long tail\n"
          ]
        },
        {
          "output_type": "display_data",
          "data": {
            "text/plain": [
              "<Figure size 640x480 with 1 Axes>"
            ],
            "image/png": "[encoded data removed]"
          },
          "metadata": {}
        }
      ]
    },
    {
      "cell_type": "markdown",
      "source": [
        "There are zero missing prevalent Stroke values."
      ],
      "metadata": {
        "id": "fei8K2HtikEW"
      }
    },
    {
      "cell_type": "markdown",
      "source": [
        "**Variable 8: prevalent hyp**"
      ],
      "metadata": {
        "id": "WMcNsP1scG6d"
      }
    },
    {
      "cell_type": "code",
      "source": [
        "var = 'prevalentHyp'\n",
        "\n",
        "print(df[var].describe(),'\\n') # Describe the numeric variable\n",
        "df[var].hist(bins = 50) # Histogram of the variable values\n",
        "\n",
        "df['prevalentHyp_NA'] = df[var].isnull() # Create a bond missing dummy; long tail\n",
        "\n",
        "print(sum(df['prevalentHyp_NA']),'\\n') # How many missing values are there?"
      ],
      "metadata": {
        "colab": {
          "base_uri": "https://localhost:8080/",
          "height": 742
        },
        "id": "_fJDeqUOioBh",
        "outputId": "6f68fff8-9bc4-45a5-f1e6-a1313580b8b4"
      },
      "execution_count": null,
      "outputs": [
        {
          "output_type": "stream",
          "name": "stdout",
          "text": [
            "count    3156.000000\n",
            "mean        0.321610\n",
            "std         0.467168\n",
            "min         0.000000\n",
            "25%         0.000000\n",
            "50%         0.000000\n",
            "75%         1.000000\n",
            "max         1.000000\n",
            "Name: prevalentHyp, dtype: float64 \n",
            "\n"
          ]
        },
        {
          "output_type": "stream",
          "name": "stderr",
          "text": [
            "<ipython-input-45-18b1d502fca2>:6: SettingWithCopyWarning: \n",
            "A value is trying to be set on a copy of a slice from a DataFrame.\n",
            "Try using .loc[row_indexer,col_indexer] = value instead\n",
            "\n",
            "See the caveats in the documentation: https://pandas.pydata.org/pandas-docs/stable/user_guide/indexing.html#returning-a-view-versus-a-copy\n",
            "  df['prevalentHyp_NA'] = df[var].isnull() # Create a bond missing dummy; long tail\n"
          ]
        },
        {
          "output_type": "stream",
          "name": "stdout",
          "text": [
            "0 \n",
            "\n"
          ]
        },
        {
          "output_type": "display_data",
          "data": {
            "text/plain": [
              "<Figure size 640x480 with 1 Axes>"
            ],
            "image/png": "[encoded data removed]"
          },
          "metadata": {}
        }
      ]
    },
    {
      "cell_type": "markdown",
      "source": [
        "There are zero missing prevalent hyp values."
      ],
      "metadata": {
        "id": "9qU86ibEiutZ"
      }
    },
    {
      "cell_type": "markdown",
      "source": [
        "**Variable 9: diabetes**"
      ],
      "metadata": {
        "id": "QEGY6p7vcKZg"
      }
    },
    {
      "cell_type": "code",
      "source": [
        "var = 'diabetes'\n",
        "\n",
        "print(df[var].describe(),'\\n') # Describe the numeric variable\n",
        "df[var].hist(bins = 50) # Histogram of the variable values\n",
        "\n",
        "df['diabetes_NA'] = df[var].isnull() # Create a bond missing dummy; long tail\n",
        "\n",
        "print(sum(df['diabetes_NA']),'\\n') # How many missing values are there?"
      ],
      "metadata": {
        "colab": {
          "base_uri": "https://localhost:8080/",
          "height": 742
        },
        "id": "GlHzXvkFixKi",
        "outputId": "2d13ddea-3548-493e-a6ce-b7e7dd7bc656"
      },
      "execution_count": null,
      "outputs": [
        {
          "output_type": "stream",
          "name": "stdout",
          "text": [
            "count    3156.000000\n",
            "mean        0.026299\n",
            "std         0.160049\n",
            "min         0.000000\n",
            "25%         0.000000\n",
            "50%         0.000000\n",
            "75%         0.000000\n",
            "max         1.000000\n",
            "Name: diabetes, dtype: float64 \n",
            "\n",
            "0 \n",
            "\n"
          ]
        },
        {
          "output_type": "stream",
          "name": "stderr",
          "text": [
            "<ipython-input-46-eecbe275dc1c>:6: SettingWithCopyWarning: \n",
            "A value is trying to be set on a copy of a slice from a DataFrame.\n",
            "Try using .loc[row_indexer,col_indexer] = value instead\n",
            "\n",
            "See the caveats in the documentation: https://pandas.pydata.org/pandas-docs/stable/user_guide/indexing.html#returning-a-view-versus-a-copy\n",
            "  df['diabetes_NA'] = df[var].isnull() # Create a bond missing dummy; long tail\n"
          ]
        },
        {
          "output_type": "display_data",
          "data": {
            "text/plain": [
              "<Figure size 640x480 with 1 Axes>"
            ],
            "image/png": "[encoded data removed]"
          },
          "metadata": {}
        }
      ]
    },
    {
      "cell_type": "markdown",
      "source": [
        "There are zero missing diabetes values."
      ],
      "metadata": {
        "id": "cjx2DYvsi2dr"
      }
    },
    {
      "cell_type": "markdown",
      "source": [
        "**Variable 10: totChol**"
      ],
      "metadata": {
        "id": "o0L2diGmcNJw"
      }
    },
    {
      "cell_type": "code",
      "source": [
        "var = 'totChol'\n",
        "\n",
        "print(df[var].describe(),'\\n') # Describe the numeric variable\n",
        "df[var].hist(bins = 50) # Histogram of the variable values\n",
        "\n",
        "df['totChol_NA'] = df[var].isnull() # Create a bond missing dummy; long tail\n",
        "\n",
        "print(sum(df['totChol_NA']),'\\n') # How many missing values are there?"
      ],
      "metadata": {
        "colab": {
          "base_uri": "https://localhost:8080/",
          "height": 742
        },
        "id": "OrkiNqCFi6N-",
        "outputId": "40dfcef1-beae-4ac3-efd1-66e7ce3966ec"
      },
      "execution_count": null,
      "outputs": [
        {
          "output_type": "stream",
          "name": "stdout",
          "text": [
            "count    3117.000000\n",
            "mean      236.538017\n",
            "std        44.859046\n",
            "min       107.000000\n",
            "25%       205.000000\n",
            "50%       233.000000\n",
            "75%       262.000000\n",
            "max       696.000000\n",
            "Name: totChol, dtype: float64 \n",
            "\n"
          ]
        },
        {
          "output_type": "stream",
          "name": "stderr",
          "text": [
            "<ipython-input-47-cd967e4510f3>:6: SettingWithCopyWarning: \n",
            "A value is trying to be set on a copy of a slice from a DataFrame.\n",
            "Try using .loc[row_indexer,col_indexer] = value instead\n",
            "\n",
            "See the caveats in the documentation: https://pandas.pydata.org/pandas-docs/stable/user_guide/indexing.html#returning-a-view-versus-a-copy\n",
            "  df['totChol_NA'] = df[var].isnull() # Create a bond missing dummy; long tail\n"
          ]
        },
        {
          "output_type": "stream",
          "name": "stdout",
          "text": [
            "39 \n",
            "\n"
          ]
        },
        {
          "output_type": "display_data",
          "data": {
            "text/plain": [
              "<Figure size 640x480 with 1 Axes>"
            ],
            "image/png": "[encoded data removed]"
          },
          "metadata": {}
        }
      ]
    },
    {
      "cell_type": "markdown",
      "source": [
        "The data looks pretty normally distributed. We will impute the mean for the 39 missing values."
      ],
      "metadata": {
        "id": "NrIGHNwai_Ug"
      }
    },
    {
      "cell_type": "code",
      "source": [
        "var = 'totChol'\n",
        "# Compute the value to impute:\n",
        "impute_value = 236.538017\n",
        "\n",
        "# Impute the median of the non-missing data:\n",
        "df[var] = df[var].fillna(impute_value)"
      ],
      "metadata": {
        "colab": {
          "base_uri": "https://localhost:8080/"
        },
        "id": "jh0mgJX9jJl5",
        "outputId": "a181a121-0378-4626-b0ca-dc61d8d2c699"
      },
      "execution_count": null,
      "outputs": [
        {
          "output_type": "stream",
          "name": "stderr",
          "text": [
            "<ipython-input-48-d117ec40c34b>:6: SettingWithCopyWarning: \n",
            "A value is trying to be set on a copy of a slice from a DataFrame.\n",
            "Try using .loc[row_indexer,col_indexer] = value instead\n",
            "\n",
            "See the caveats in the documentation: https://pandas.pydata.org/pandas-docs/stable/user_guide/indexing.html#returning-a-view-versus-a-copy\n",
            "  df[var] = df[var].fillna(impute_value)\n"
          ]
        }
      ]
    },
    {
      "cell_type": "code",
      "source": [
        "var = 'totChol'\n",
        "\n",
        "print(df[var].describe(),'\\n') # Describe the numeric variable\n",
        "df[var].hist(bins = 50) # Histogram of the variable values\n",
        "\n",
        "df['totChol_NA'] = df[var].isnull() # Create a bond missing dummy; long tail\n",
        "\n",
        "print(sum(df['totChol_NA']),'\\n') # How many missing values are there?"
      ],
      "metadata": {
        "colab": {
          "base_uri": "https://localhost:8080/",
          "height": 742
        },
        "id": "EZUDZ7vpjPiR",
        "outputId": "54cb6678-7bcf-491f-e40c-0f4d0169237c"
      },
      "execution_count": null,
      "outputs": [
        {
          "output_type": "stream",
          "name": "stdout",
          "text": [
            "count    3156.000000\n",
            "mean      236.538017\n",
            "std        44.580925\n",
            "min       107.000000\n",
            "25%       206.000000\n",
            "50%       234.000000\n",
            "75%       262.000000\n",
            "max       696.000000\n",
            "Name: totChol, dtype: float64 \n",
            "\n",
            "0 \n",
            "\n"
          ]
        },
        {
          "output_type": "stream",
          "name": "stderr",
          "text": [
            "<ipython-input-49-cd967e4510f3>:6: SettingWithCopyWarning: \n",
            "A value is trying to be set on a copy of a slice from a DataFrame.\n",
            "Try using .loc[row_indexer,col_indexer] = value instead\n",
            "\n",
            "See the caveats in the documentation: https://pandas.pydata.org/pandas-docs/stable/user_guide/indexing.html#returning-a-view-versus-a-copy\n",
            "  df['totChol_NA'] = df[var].isnull() # Create a bond missing dummy; long tail\n"
          ]
        },
        {
          "output_type": "display_data",
          "data": {
            "text/plain": [
              "<Figure size 640x480 with 1 Axes>"
            ],
            "image/png": "[encoded data removed]"
          },
          "metadata": {}
        }
      ]
    },
    {
      "cell_type": "markdown",
      "source": [
        "No missing values now."
      ],
      "metadata": {
        "id": "fqDNEUTujTGa"
      }
    },
    {
      "cell_type": "markdown",
      "source": [
        "**Variable 11: sys BP**"
      ],
      "metadata": {
        "id": "R37ZR9PIcQ51"
      }
    },
    {
      "cell_type": "code",
      "source": [
        "var = 'sysBP'\n",
        "\n",
        "print(df[var].describe(),'\\n') # Describe the numeric variable\n",
        "df[var].hist(bins = 50) # Histogram of the variable values\n",
        "\n",
        "df['sysBP_NA'] = df[var].isnull() # Create a bond missing dummy; long tail\n",
        "\n",
        "print(sum(df['sysBP_NA']),'\\n') # How many missing values are there?"
      ],
      "metadata": {
        "colab": {
          "base_uri": "https://localhost:8080/",
          "height": 743
        },
        "id": "vqUA5HnejYJA",
        "outputId": "a309e7b5-e230-466f-eb86-d9f6f0d54305"
      },
      "execution_count": null,
      "outputs": [
        {
          "output_type": "stream",
          "name": "stdout",
          "text": [
            "count    3156.000000\n",
            "mean      132.781527\n",
            "std        22.432237\n",
            "min        83.500000\n",
            "25%       117.000000\n",
            "50%       129.000000\n",
            "75%       144.125000\n",
            "max       295.000000\n",
            "Name: sysBP, dtype: float64 \n",
            "\n",
            "0 \n",
            "\n"
          ]
        },
        {
          "output_type": "stream",
          "name": "stderr",
          "text": [
            "<ipython-input-50-24e9914c9a99>:6: SettingWithCopyWarning: \n",
            "A value is trying to be set on a copy of a slice from a DataFrame.\n",
            "Try using .loc[row_indexer,col_indexer] = value instead\n",
            "\n",
            "See the caveats in the documentation: https://pandas.pydata.org/pandas-docs/stable/user_guide/indexing.html#returning-a-view-versus-a-copy\n",
            "  df['sysBP_NA'] = df[var].isnull() # Create a bond missing dummy; long tail\n"
          ]
        },
        {
          "output_type": "display_data",
          "data": {
            "text/plain": [
              "<Figure size 640x480 with 1 Axes>"
            ],
            "image/png": "[encoded data removed]"
          },
          "metadata": {}
        }
      ]
    },
    {
      "cell_type": "markdown",
      "source": [
        "There are no missing sys BP vals."
      ],
      "metadata": {
        "id": "Dr6b535ejcEi"
      }
    },
    {
      "cell_type": "markdown",
      "source": [
        "**Variable 12: diaBP**"
      ],
      "metadata": {
        "id": "h0yAXkzFcT_G"
      }
    },
    {
      "cell_type": "code",
      "source": [
        "var = 'diaBP'\n",
        "\n",
        "print(df[var].describe(),'\\n') # Describe the numeric variable\n",
        "df[var].hist(bins = 50) # Histogram of the variable values\n",
        "\n",
        "df['diaBP_NA'] = df[var].isnull() # Create a bond missing dummy; long tail\n",
        "\n",
        "print(sum(df['diaBP_NA']),'\\n') # How many missing values are there?"
      ],
      "metadata": {
        "colab": {
          "base_uri": "https://localhost:8080/",
          "height": 742
        },
        "id": "Q6OZxcuhjeQ1",
        "outputId": "d4b17108-15f9-4dfc-baeb-a110a7208b10"
      },
      "execution_count": null,
      "outputs": [
        {
          "output_type": "stream",
          "name": "stdout",
          "text": [
            "count    3156.000000\n",
            "mean       83.112801\n",
            "std        11.991900\n",
            "min        50.000000\n",
            "25%        75.000000\n",
            "50%        82.000000\n",
            "75%        90.000000\n",
            "max       142.500000\n",
            "Name: diaBP, dtype: float64 \n",
            "\n",
            "0 \n",
            "\n"
          ]
        },
        {
          "output_type": "stream",
          "name": "stderr",
          "text": [
            "<ipython-input-51-08fc4014fe3e>:6: SettingWithCopyWarning: \n",
            "A value is trying to be set on a copy of a slice from a DataFrame.\n",
            "Try using .loc[row_indexer,col_indexer] = value instead\n",
            "\n",
            "See the caveats in the documentation: https://pandas.pydata.org/pandas-docs/stable/user_guide/indexing.html#returning-a-view-versus-a-copy\n",
            "  df['diaBP_NA'] = df[var].isnull() # Create a bond missing dummy; long tail\n"
          ]
        },
        {
          "output_type": "display_data",
          "data": {
            "text/plain": [
              "<Figure size 640x480 with 1 Axes>"
            ],
            "image/png": "[encoded data removed]"
          },
          "metadata": {}
        }
      ]
    },
    {
      "cell_type": "markdown",
      "source": [
        "There are no missing dia BP vals."
      ],
      "metadata": {
        "id": "bys6_8iZjkI_"
      }
    },
    {
      "cell_type": "markdown",
      "source": [
        "**Variable 13: BMI**"
      ],
      "metadata": {
        "id": "lY_gNq4XcXuB"
      }
    },
    {
      "cell_type": "code",
      "source": [
        "var = 'BMI'\n",
        "\n",
        "print(df[var].describe(),'\\n') # Describe the numeric variable\n",
        "df[var].hist(bins = 50) # Histogram of the variable values\n",
        "\n",
        "df['BMI_NA'] = df[var].isnull() # Create a bond missing dummy; long tail\n",
        "\n",
        "print(sum(df['BMI_NA']),'\\n') # How many missing values are there?"
      ],
      "metadata": {
        "colab": {
          "base_uri": "https://localhost:8080/",
          "height": 742
        },
        "id": "6l6f7mAYjmTu",
        "outputId": "b0c2bcd8-a8c9-4bf6-eaa8-6a393ea4a34c"
      },
      "execution_count": null,
      "outputs": [
        {
          "output_type": "stream",
          "name": "stdout",
          "text": [
            "count    3141.000000\n",
            "mean       25.889061\n",
            "std         4.131518\n",
            "min        15.540000\n",
            "25%        23.100000\n",
            "50%        25.490000\n",
            "75%        28.150000\n",
            "max        56.800000\n",
            "Name: BMI, dtype: float64 \n",
            "\n",
            "15 \n",
            "\n"
          ]
        },
        {
          "output_type": "stream",
          "name": "stderr",
          "text": [
            "<ipython-input-52-211a0adbc2a7>:6: SettingWithCopyWarning: \n",
            "A value is trying to be set on a copy of a slice from a DataFrame.\n",
            "Try using .loc[row_indexer,col_indexer] = value instead\n",
            "\n",
            "See the caveats in the documentation: https://pandas.pydata.org/pandas-docs/stable/user_guide/indexing.html#returning-a-view-versus-a-copy\n",
            "  df['BMI_NA'] = df[var].isnull() # Create a bond missing dummy; long tail\n"
          ]
        },
        {
          "output_type": "display_data",
          "data": {
            "text/plain": [
              "<Figure size 640x480 with 1 Axes>"
            ],
            "image/png": "[encoded data removed]"
          },
          "metadata": {}
        }
      ]
    },
    {
      "cell_type": "markdown",
      "source": [
        "The data looks pretty normally distributed. We will impute the mean for the 15 missing values."
      ],
      "metadata": {
        "id": "gkjpFhd9jqit"
      }
    },
    {
      "cell_type": "code",
      "source": [
        "var = 'BMI'\n",
        "# Compute the value to impute:\n",
        "impute_value = 25.889061\n",
        "\n",
        "# Impute the median of the non-missing data:\n",
        "df[var] = df[var].fillna(impute_value)"
      ],
      "metadata": {
        "colab": {
          "base_uri": "https://localhost:8080/"
        },
        "id": "E0eQWmhojxpv",
        "outputId": "d443b97e-9193-44ef-80f2-3468e96494cf"
      },
      "execution_count": null,
      "outputs": [
        {
          "output_type": "stream",
          "name": "stderr",
          "text": [
            "<ipython-input-53-1578894978ad>:6: SettingWithCopyWarning: \n",
            "A value is trying to be set on a copy of a slice from a DataFrame.\n",
            "Try using .loc[row_indexer,col_indexer] = value instead\n",
            "\n",
            "See the caveats in the documentation: https://pandas.pydata.org/pandas-docs/stable/user_guide/indexing.html#returning-a-view-versus-a-copy\n",
            "  df[var] = df[var].fillna(impute_value)\n"
          ]
        }
      ]
    },
    {
      "cell_type": "code",
      "source": [
        "var = 'BMI'\n",
        "\n",
        "print(df[var].describe(),'\\n') # Describe the numeric variable\n",
        "df[var].hist(bins = 50) # Histogram of the variable values\n",
        "\n",
        "df['BMI_NA'] = df[var].isnull() # Create a bond missing dummy; long tail\n",
        "\n",
        "print(sum(df['BMI_NA']),'\\n') # How many missing values are there?"
      ],
      "metadata": {
        "colab": {
          "base_uri": "https://localhost:8080/",
          "height": 742
        },
        "id": "kjkVFdaBj4AY",
        "outputId": "7070565d-a337-402e-81f0-7a79e0202f74"
      },
      "execution_count": null,
      "outputs": [
        {
          "output_type": "stream",
          "name": "stdout",
          "text": [
            "count    3156.000000\n",
            "mean       25.889061\n",
            "std         4.121685\n",
            "min        15.540000\n",
            "25%        23.100000\n",
            "50%        25.510000\n",
            "75%        28.122500\n",
            "max        56.800000\n",
            "Name: BMI, dtype: float64 \n",
            "\n",
            "0 \n",
            "\n"
          ]
        },
        {
          "output_type": "stream",
          "name": "stderr",
          "text": [
            "<ipython-input-54-211a0adbc2a7>:6: SettingWithCopyWarning: \n",
            "A value is trying to be set on a copy of a slice from a DataFrame.\n",
            "Try using .loc[row_indexer,col_indexer] = value instead\n",
            "\n",
            "See the caveats in the documentation: https://pandas.pydata.org/pandas-docs/stable/user_guide/indexing.html#returning-a-view-versus-a-copy\n",
            "  df['BMI_NA'] = df[var].isnull() # Create a bond missing dummy; long tail\n"
          ]
        },
        {
          "output_type": "display_data",
          "data": {
            "text/plain": [
              "<Figure size 640x480 with 1 Axes>"
            ],
            "image/png": "[encoded data removed]"
          },
          "metadata": {}
        }
      ]
    },
    {
      "cell_type": "markdown",
      "source": [
        "No missing BMI vals now."
      ],
      "metadata": {
        "id": "0WKBZ2BPj46E"
      }
    },
    {
      "cell_type": "markdown",
      "source": [
        "**Variable 14: heart rate**"
      ],
      "metadata": {
        "id": "Rxc5I-3bcawt"
      }
    },
    {
      "cell_type": "code",
      "source": [
        "var = 'heartRate'\n",
        "\n",
        "print(df[var].describe(),'\\n') # Describe the numeric variable\n",
        "df[var].hist(bins = 50) # Histogram of the variable values\n",
        "\n",
        "df['heartRate_NA'] = df[var].isnull() # Create a bond missing dummy; long tail\n",
        "\n",
        "print(sum(df['heartRate_NA']),'\\n') # How many missing values are there?"
      ],
      "metadata": {
        "colab": {
          "base_uri": "https://localhost:8080/",
          "height": 742
        },
        "id": "nQSR7hYfj7_w",
        "outputId": "a63bbc3e-4667-4993-b899-b6958b7ee7a0"
      },
      "execution_count": null,
      "outputs": [
        {
          "output_type": "stream",
          "name": "stdout",
          "text": [
            "count    3156.000000\n",
            "mean       75.923954\n",
            "std        12.038393\n",
            "min        44.000000\n",
            "25%        68.000000\n",
            "50%        75.000000\n",
            "75%        83.000000\n",
            "max       140.000000\n",
            "Name: heartRate, dtype: float64 \n",
            "\n",
            "0 \n",
            "\n"
          ]
        },
        {
          "output_type": "stream",
          "name": "stderr",
          "text": [
            "<ipython-input-55-0f29b998947c>:6: SettingWithCopyWarning: \n",
            "A value is trying to be set on a copy of a slice from a DataFrame.\n",
            "Try using .loc[row_indexer,col_indexer] = value instead\n",
            "\n",
            "See the caveats in the documentation: https://pandas.pydata.org/pandas-docs/stable/user_guide/indexing.html#returning-a-view-versus-a-copy\n",
            "  df['heartRate_NA'] = df[var].isnull() # Create a bond missing dummy; long tail\n"
          ]
        },
        {
          "output_type": "display_data",
          "data": {
            "text/plain": [
              "<Figure size 640x480 with 1 Axes>"
            ],
            "image/png": "[encoded data removed]"
          },
          "metadata": {}
        }
      ]
    },
    {
      "cell_type": "markdown",
      "source": [
        "No missing vals."
      ],
      "metadata": {
        "id": "5w1n1EVtkW8P"
      }
    },
    {
      "cell_type": "markdown",
      "source": [
        "**Variable 15: glucose**"
      ],
      "metadata": {
        "id": "Me9R-hFicepv"
      }
    },
    {
      "cell_type": "code",
      "source": [
        "var = 'glucose'\n",
        "\n",
        "print(df[var].describe(),'\\n') # Describe the numeric variable\n",
        "df[var].hist(bins = 50) # Histogram of the variable values\n",
        "\n",
        "df['glucose_NA'] = df[var].isnull() # Create a bond missing dummy; long tail\n",
        "\n",
        "print(sum(df['glucose_NA']),'\\n') # How many missing values are there?"
      ],
      "metadata": {
        "colab": {
          "base_uri": "https://localhost:8080/",
          "height": 743
        },
        "id": "b0iq2p9tkAw4",
        "outputId": "48d97315-7496-4edd-883f-5e843dcc2162"
      },
      "execution_count": null,
      "outputs": [
        {
          "output_type": "stream",
          "name": "stdout",
          "text": [
            "count    2875.000000\n",
            "mean       81.818783\n",
            "std        23.668175\n",
            "min        40.000000\n",
            "25%        71.000000\n",
            "50%        78.000000\n",
            "75%        87.000000\n",
            "max       394.000000\n",
            "Name: glucose, dtype: float64 \n",
            "\n"
          ]
        },
        {
          "output_type": "stream",
          "name": "stderr",
          "text": [
            "<ipython-input-56-8f341a005408>:6: SettingWithCopyWarning: \n",
            "A value is trying to be set on a copy of a slice from a DataFrame.\n",
            "Try using .loc[row_indexer,col_indexer] = value instead\n",
            "\n",
            "See the caveats in the documentation: https://pandas.pydata.org/pandas-docs/stable/user_guide/indexing.html#returning-a-view-versus-a-copy\n",
            "  df['glucose_NA'] = df[var].isnull() # Create a bond missing dummy; long tail\n"
          ]
        },
        {
          "output_type": "stream",
          "name": "stdout",
          "text": [
            "281 \n",
            "\n"
          ]
        },
        {
          "output_type": "display_data",
          "data": {
            "text/plain": [
              "<Figure size 640x480 with 1 Axes>"
            ],
            "image/png": "[encoded data removed]"
          },
          "metadata": {}
        }
      ]
    },
    {
      "cell_type": "markdown",
      "source": [
        "281 misisng values here. We will impute the mean so that we don't lose 281 values."
      ],
      "metadata": {
        "id": "cgdFwzHVkZmZ"
      }
    },
    {
      "cell_type": "code",
      "source": [
        "var = 'glucose'\n",
        "# Compute the value to impute:\n",
        "impute_value = 81.818783\n",
        "\n",
        "# Impute the median of the non-missing data:\n",
        "df[var] = df[var].fillna(impute_value)"
      ],
      "metadata": {
        "colab": {
          "base_uri": "https://localhost:8080/"
        },
        "id": "XrybwFdvkhch",
        "outputId": "69cd1e96-857a-44b8-defd-0c447536e943"
      },
      "execution_count": null,
      "outputs": [
        {
          "output_type": "stream",
          "name": "stderr",
          "text": [
            "<ipython-input-59-e4fe50ad7bf0>:6: SettingWithCopyWarning: \n",
            "A value is trying to be set on a copy of a slice from a DataFrame.\n",
            "Try using .loc[row_indexer,col_indexer] = value instead\n",
            "\n",
            "See the caveats in the documentation: https://pandas.pydata.org/pandas-docs/stable/user_guide/indexing.html#returning-a-view-versus-a-copy\n",
            "  df[var] = df[var].fillna(impute_value)\n"
          ]
        }
      ]
    },
    {
      "cell_type": "code",
      "source": [
        "var = 'glucose'\n",
        "\n",
        "print(df[var].describe(),'\\n') # Describe the numeric variable\n",
        "df[var].hist(bins = 50) # Histogram of the variable values\n",
        "\n",
        "df['glucose_NA'] = df[var].isnull() # Create a bond missing dummy; long tail\n",
        "\n",
        "print(sum(df['glucose_NA']),'\\n') # How many missing values are there?"
      ],
      "metadata": {
        "colab": {
          "base_uri": "https://localhost:8080/",
          "height": 742
        },
        "id": "pzJFjL_nklKf",
        "outputId": "16f98d2d-1974-45ad-c143-af26b90002f7"
      },
      "execution_count": null,
      "outputs": [
        {
          "output_type": "stream",
          "name": "stdout",
          "text": [
            "count    3156.000000\n",
            "mean       81.818783\n",
            "std        22.589597\n",
            "min        40.000000\n",
            "25%        72.000000\n",
            "50%        79.000000\n",
            "75%        85.000000\n",
            "max       394.000000\n",
            "Name: glucose, dtype: float64 \n",
            "\n",
            "0 \n",
            "\n"
          ]
        },
        {
          "output_type": "stream",
          "name": "stderr",
          "text": [
            "<ipython-input-60-8f341a005408>:6: SettingWithCopyWarning: \n",
            "A value is trying to be set on a copy of a slice from a DataFrame.\n",
            "Try using .loc[row_indexer,col_indexer] = value instead\n",
            "\n",
            "See the caveats in the documentation: https://pandas.pydata.org/pandas-docs/stable/user_guide/indexing.html#returning-a-view-versus-a-copy\n",
            "  df['glucose_NA'] = df[var].isnull() # Create a bond missing dummy; long tail\n"
          ]
        },
        {
          "output_type": "display_data",
          "data": {
            "text/plain": [
              "<Figure size 640x480 with 1 Axes>"
            ],
            "image/png": "[encoded data removed]"
          },
          "metadata": {}
        }
      ]
    },
    {
      "cell_type": "markdown",
      "source": [
        "no missing values now."
      ],
      "metadata": {
        "id": "T5JgloVikmH9"
      }
    },
    {
      "cell_type": "markdown",
      "source": [
        "**Variable 16: ten year CHD**"
      ],
      "metadata": {
        "id": "WO485mhBcgds"
      }
    },
    {
      "cell_type": "code",
      "source": [
        "var = 'TenYearCHD'\n",
        "\n",
        "print(df[var].describe(),'\\n') # Describe the numeric variable\n",
        "df[var].hist(bins = 50) # Histogram of the variable values\n",
        "\n",
        "df['TenYearCHD_NA'] = df[var].isnull() # Create a bond missing dummy; long tail\n",
        "\n",
        "print(sum(df['TenYearCHD_NA']),'\\n') # How many missing values are there?"
      ],
      "metadata": {
        "colab": {
          "base_uri": "https://localhost:8080/",
          "height": 742
        },
        "id": "ectWX7mfkGxA",
        "outputId": "b9332b30-f26e-44b6-acbe-38bc23d3a81f"
      },
      "execution_count": null,
      "outputs": [
        {
          "output_type": "stream",
          "name": "stdout",
          "text": [
            "count    3156.000000\n",
            "mean        0.153676\n",
            "std         0.360695\n",
            "min         0.000000\n",
            "25%         0.000000\n",
            "50%         0.000000\n",
            "75%         0.000000\n",
            "max         1.000000\n",
            "Name: TenYearCHD, dtype: float64 \n",
            "\n",
            "0 \n",
            "\n"
          ]
        },
        {
          "output_type": "stream",
          "name": "stderr",
          "text": [
            "<ipython-input-58-f30367b26724>:6: SettingWithCopyWarning: \n",
            "A value is trying to be set on a copy of a slice from a DataFrame.\n",
            "Try using .loc[row_indexer,col_indexer] = value instead\n",
            "\n",
            "See the caveats in the documentation: https://pandas.pydata.org/pandas-docs/stable/user_guide/indexing.html#returning-a-view-versus-a-copy\n",
            "  df['TenYearCHD_NA'] = df[var].isnull() # Create a bond missing dummy; long tail\n"
          ]
        },
        {
          "output_type": "display_data",
          "data": {
            "text/plain": [
              "<Figure size 640x480 with 1 Axes>"
            ],
            "image/png": "[encoded data removed]"
          },
          "metadata": {}
        }
      ]
    },
    {
      "cell_type": "markdown",
      "source": [
        "No missing vals."
      ],
      "metadata": {
        "id": "F1Gzd2YIkU-H"
      }
    }
  ]
}